{
 "cells": [
  {
   "cell_type": "markdown",
   "id": "everyday-postage",
   "metadata": {},
   "source": [
    "# Exporting CSV as Parquet\n",
    "**Application**: Csv to Parquet<br>\n",
    "**Creator**: Leandro da Silva<br>\n",
    "**Date**: 2021-02-12<br>\n",
    "**Description**:<br>\n",
    "  - The Application has to load a csv file, from the input folder, to a Spark Dataframe.<br>\n",
    "  - This CSV file contains duplicated records that must be removed, using the following business rule:<br>\n",
    "     - Keep only the most recent records based on the Id and Update_Date Columns.<br>\n",
    "  - After the deduplication, the application has to use a config json file to execute a data type mapping.<br>\n",
    "  - Finally, the application has to export a parquet file to the output folder.<br>\n",
    "\n",
    "**Architect decissions**: <br>\n",
    "  - Why Parquet file as the output? <br>\n",
    "    Parquet is the most common and widely used columnar file right now. <br>\n",
    "    It has use cases for data lakes with easy integrations with cloud solutions, such as AWS Glue, and Redshift Spectrum, as an example. <br>\n",
    "  - The service type used to deploy the spark cluster?<br>\n",
    "    Due to the small amount of data to handle, there was no need to over complicate the architecture with options  as AWS EMR cluster or even other cloud serveless solutions, such as AWS Glue. Instead, I used a local spark service on Mac OS which was more than capable of handled it. <br>\n",
    "    "
   ]
  },
  {
   "cell_type": "code",
   "execution_count": 1,
   "id": "involved-question",
   "metadata": {},
   "outputs": [],
   "source": [
    "# ------------------------ #\n",
    "# Loading Python Libraries #\n",
    "# ------------------------ #\n",
    "from pyspark.conf import SparkConf\n",
    "from pyspark.sql import SparkSession\n",
    "from pyspark.sql.window import Window\n",
    "import pyspark.sql.functions as F\n",
    "import json\n",
    "import gc\n",
    "from os import listdir"
   ]
  },
  {
   "cell_type": "code",
   "execution_count": 2,
   "id": "forty-neighbor",
   "metadata": {},
   "outputs": [],
   "source": [
    "# ------------------------------- #\n",
    "# Defning the Spark Configuration #\n",
    "# ------------------------------- #\n",
    "config = SparkConf().setAll(\n",
    "    [\n",
    "        # Defining the number of cores to use on each executor.\n",
    "        (\"spark.executor.cores\", \"2\"),\n",
    "        # Defining the number of maximum amount of CPU cores to request for the application from across the cluster.\n",
    "        (\"spark.cores.max\", \"2\"),\n",
    "        # Defining the amount of memory to use per executor process.\n",
    "        (\"spark.executor.memory\", \"1g\"),\n",
    "        # Defining the compression codec used when writing Parquet files.\n",
    "        (\"spark.sql.parquet.compression.codec\", \"gzip\"),\n",
    "    ]\n",
    ")\n",
    "\n",
    "# -------------------------------------------------------- #\n",
    "# Spark Session creation using the configuration defintion #\n",
    "# -------------------------------------------------------- #\n",
    "spark = SparkSession.builder \\\n",
    "        .master(\"local[1]\") \\\n",
    "        .config(conf=config) \\\n",
    "        .appName('Csv-to-Parquet') \\\n",
    "        .getOrCreate()"
   ]
  },
  {
   "cell_type": "code",
   "execution_count": 3,
   "id": "classified-seller",
   "metadata": {},
   "outputs": [],
   "source": [
    "# ------------------- #\n",
    "# CSV Input File Path #\n",
    "# ------------------- # \n",
    "csv_file = './data/input/users/load.csv'\n",
    "\n",
    "# ----------------------------------------- #\n",
    "# Loading the CSV file to a Spark DataFrame #\n",
    "# ----------------------------------------- #\n",
    "df = spark.read.option(\"header\", True).csv(csv_file)"
   ]
  },
  {
   "cell_type": "code",
   "execution_count": 4,
   "id": "polish-midwest",
   "metadata": {},
   "outputs": [
    {
     "name": "stdout",
     "output_type": "stream",
     "text": [
      "-RECORD 0-----------------------------------------------------\n",
      " id          | 1                                              \n",
      " name        | david.lynch@cognitivo.ai                       \n",
      " email       | David Lynch                                    \n",
      " phone       | (11) 99999-9997                                \n",
      " address     | Mulholland Drive, Los Angeles, CA, US          \n",
      " age         | 72                                             \n",
      " create_date | 2018-03-03 18:47:01.954752                     \n",
      " update_date | 2018-03-03 18:47:01.954752                     \n",
      "-RECORD 1-----------------------------------------------------\n",
      " id          | 1                                              \n",
      " name        | david.lynch@cognitivo.ai                       \n",
      " email       | David Lynch                                    \n",
      " phone       | (11) 99999-9998                                \n",
      " address     | Mulholland Drive, Los Angeles, CA, US          \n",
      " age         | 72                                             \n",
      " create_date | 2018-03-03 18:47:01.954752                     \n",
      " update_date | 2018-04-14 17:09:48.558151                     \n",
      "-RECORD 2-----------------------------------------------------\n",
      " id          | 2                                              \n",
      " name        | sherlock.holmes@cognitivo.ai                   \n",
      " email       | Sherlock Holmes                                \n",
      " phone       | (11) 94815-1623                                \n",
      " address     | 221B Baker Street, London, UK                  \n",
      " age         | 34                                             \n",
      " create_date | 2018-04-21 20:21:24.364752                     \n",
      " update_date | 2018-04-21 20:21:24.364752                     \n",
      "-RECORD 3-----------------------------------------------------\n",
      " id          | 3                                              \n",
      " name        | spongebob.squarepants@cognitivo.ai             \n",
      " email       | Spongebob Squarepants                          \n",
      " phone       | (11) 91234-5678                                \n",
      " address     | 124 Conch Street, Bikini Bottom, Pacific Ocean \n",
      " age         | 13                                             \n",
      " create_date | 2018-05-19 04:07:06.854752                     \n",
      " update_date | 2018-05-19 04:07:06.854752                     \n",
      "-RECORD 4-----------------------------------------------------\n",
      " id          | 1                                              \n",
      " name        | david.lynch@cognitivo.ai                       \n",
      " email       | David Lynch                                    \n",
      " phone       | (11) 99999-9999                                \n",
      " address     | Mulholland Drive, Los Angeles, CA, US          \n",
      " age         | 72                                             \n",
      " create_date | 2018-03-03 18:47:01.954752                     \n",
      " update_date | 2018-05-23 10:13:59.594752                     \n",
      "-RECORD 5-----------------------------------------------------\n",
      " id          | 3                                              \n",
      " name        | spongebob.squarepants@cognitivo.ai             \n",
      " email       | Spongebob Squarepants                          \n",
      " phone       | (11) 98765-4321                                \n",
      " address     | 122 Conch Street, Bikini Bottom, Pacific Ocean \n",
      " age         | 13                                             \n",
      " create_date | 2018-05-19 04:07:06.854752                     \n",
      " update_date | 2018-05-19 05:08:07.964752                     \n",
      "\n"
     ]
    }
   ],
   "source": [
    "# -------- #\n",
    "# Raw Data #\n",
    "# -------- #\n",
    "df.show(truncate=False, vertical=True)"
   ]
  },
  {
   "cell_type": "code",
   "execution_count": 5,
   "id": "swedish-alfred",
   "metadata": {},
   "outputs": [
    {
     "name": "stdout",
     "output_type": "stream",
     "text": [
      "root\n",
      " |-- id: string (nullable = true)\n",
      " |-- name: string (nullable = true)\n",
      " |-- email: string (nullable = true)\n",
      " |-- phone: string (nullable = true)\n",
      " |-- address: string (nullable = true)\n",
      " |-- age: string (nullable = true)\n",
      " |-- create_date: string (nullable = true)\n",
      " |-- update_date: string (nullable = true)\n",
      "\n"
     ]
    }
   ],
   "source": [
    "# --------------- #\n",
    "# Original Schema #\n",
    "# --------------- #\n",
    "df.printSchema()"
   ]
  },
  {
   "cell_type": "code",
   "execution_count": 6,
   "id": "fifteen-leisure",
   "metadata": {},
   "outputs": [],
   "source": [
    "# -------------------- #\n",
    "# Deduplicaton process #\n",
    "# -------------------- #\n",
    "# Clean Code - Windows function definition to do the PartitionBy clause\n",
    "# Business Rule (Requirements.txt): \n",
    "#  1. Grouping by Id column.\n",
    "#  2. Desc ordering by Update_date column.\n",
    "wf_partitionBy = Window.partitionBy(\"id\").orderBy(df[\"update_date\"].desc())\n",
    "\n",
    "# Running the deduplication\n",
    "# Keeping only the most recent record based on Id and  Update_date Column (PartitionBy Definition above)\n",
    "# Where the row_number = 1 will always be for the most recent record. \n",
    "df_dedup = df.select(\"*\", F.row_number().over(wf_partitionBy).alias(\"row_number\")) \\\n",
    "    .where('row_number = 1') \\\n",
    "    .drop('row_number') \\\n",
    "    .orderBy(\"id\")"
   ]
  },
  {
   "cell_type": "code",
   "execution_count": 7,
   "id": "express-picture",
   "metadata": {},
   "outputs": [
    {
     "name": "stdout",
     "output_type": "stream",
     "text": [
      "-RECORD 0-----------------------------------------------------\n",
      " id          | 1                                              \n",
      " name        | david.lynch@cognitivo.ai                       \n",
      " email       | David Lynch                                    \n",
      " phone       | (11) 99999-9999                                \n",
      " address     | Mulholland Drive, Los Angeles, CA, US          \n",
      " age         | 72                                             \n",
      " create_date | 2018-03-03 18:47:01.954752                     \n",
      " update_date | 2018-05-23 10:13:59.594752                     \n",
      "-RECORD 1-----------------------------------------------------\n",
      " id          | 2                                              \n",
      " name        | sherlock.holmes@cognitivo.ai                   \n",
      " email       | Sherlock Holmes                                \n",
      " phone       | (11) 94815-1623                                \n",
      " address     | 221B Baker Street, London, UK                  \n",
      " age         | 34                                             \n",
      " create_date | 2018-04-21 20:21:24.364752                     \n",
      " update_date | 2018-04-21 20:21:24.364752                     \n",
      "-RECORD 2-----------------------------------------------------\n",
      " id          | 3                                              \n",
      " name        | spongebob.squarepants@cognitivo.ai             \n",
      " email       | Spongebob Squarepants                          \n",
      " phone       | (11) 98765-4321                                \n",
      " address     | 122 Conch Street, Bikini Bottom, Pacific Ocean \n",
      " age         | 13                                             \n",
      " create_date | 2018-05-19 04:07:06.854752                     \n",
      " update_date | 2018-05-19 05:08:07.964752                     \n",
      "\n"
     ]
    }
   ],
   "source": [
    "# ------------------------------ #\n",
    "# Data after removing duplicates #\n",
    "# ------------------------------ #\n",
    "df_dedup.show(truncate=False, vertical=True)"
   ]
  },
  {
   "cell_type": "code",
   "execution_count": 8,
   "id": "clear-brooks",
   "metadata": {},
   "outputs": [
    {
     "name": "stdout",
     "output_type": "stream",
     "text": [
      "root\n",
      " |-- id: string (nullable = true)\n",
      " |-- name: string (nullable = true)\n",
      " |-- email: string (nullable = true)\n",
      " |-- phone: string (nullable = true)\n",
      " |-- address: string (nullable = true)\n",
      " |-- age: string (nullable = true)\n",
      " |-- create_date: string (nullable = true)\n",
      " |-- update_date: string (nullable = true)\n",
      "\n"
     ]
    }
   ],
   "source": [
    "# ------------------------------------- #\n",
    "# Data schema after removing duplicates #\n",
    "# ------------------------------------- #\n",
    "df_dedup.printSchema()"
   ]
  },
  {
   "cell_type": "code",
   "execution_count": 9,
   "id": "passive-lawrence",
   "metadata": {},
   "outputs": [],
   "source": [
    "# -------------------- #\n",
    "# Type Mapping process #\n",
    "# -------------------- #\n",
    "# Function responsible to execute the cast of the dataframe data types\n",
    "def df_cast_column_type(item):\n",
    "    try:\n",
    "        json_file = open(\"./config/types_mapping.json\")\n",
    "        json_object = json.load(json_file)\n",
    "\n",
    "        for col in item.columns:\n",
    "            for (key, value) in json_object.items():\n",
    "                if (col.lower() == key.lower()):                \n",
    "                    item = item.withColumn(\n",
    "                        col, F.col(col).cast(value)\n",
    "                    )\n",
    "                    \n",
    "        return item\n",
    "    except Exception as error:\n",
    "        print(error)\n",
    "    finally:\n",
    "        if json_file:\n",
    "            json_file.close()"
   ]
  },
  {
   "cell_type": "code",
   "execution_count": 10,
   "id": "union-domain",
   "metadata": {},
   "outputs": [],
   "source": [
    "# Executing the type mappings using the function \"df_cast_column_type\"\n",
    "df_cast = df_cast_column_type(df_dedup)"
   ]
  },
  {
   "cell_type": "code",
   "execution_count": 11,
   "id": "imperial-oxide",
   "metadata": {},
   "outputs": [
    {
     "name": "stdout",
     "output_type": "stream",
     "text": [
      "-RECORD 0-----------------------------------------------------\n",
      " id          | 1                                              \n",
      " name        | david.lynch@cognitivo.ai                       \n",
      " email       | David Lynch                                    \n",
      " phone       | (11) 99999-9999                                \n",
      " address     | Mulholland Drive, Los Angeles, CA, US          \n",
      " age         | 72                                             \n",
      " create_date | 2018-03-03 18:47:01.954752                     \n",
      " update_date | 2018-05-23 10:13:59.594752                     \n",
      "-RECORD 1-----------------------------------------------------\n",
      " id          | 2                                              \n",
      " name        | sherlock.holmes@cognitivo.ai                   \n",
      " email       | Sherlock Holmes                                \n",
      " phone       | (11) 94815-1623                                \n",
      " address     | 221B Baker Street, London, UK                  \n",
      " age         | 34                                             \n",
      " create_date | 2018-04-21 20:21:24.364752                     \n",
      " update_date | 2018-04-21 20:21:24.364752                     \n",
      "-RECORD 2-----------------------------------------------------\n",
      " id          | 3                                              \n",
      " name        | spongebob.squarepants@cognitivo.ai             \n",
      " email       | Spongebob Squarepants                          \n",
      " phone       | (11) 98765-4321                                \n",
      " address     | 122 Conch Street, Bikini Bottom, Pacific Ocean \n",
      " age         | 13                                             \n",
      " create_date | 2018-05-19 04:07:06.854752                     \n",
      " update_date | 2018-05-19 05:08:07.964752                     \n",
      "\n"
     ]
    }
   ],
   "source": [
    "# ----------------------------- #\n",
    "# Data after data type mappings #\n",
    "# ----------------------------- #\n",
    "df_cast.show(truncate=False, vertical=True)"
   ]
  },
  {
   "cell_type": "code",
   "execution_count": 12,
   "id": "elementary-unemployment",
   "metadata": {},
   "outputs": [
    {
     "name": "stdout",
     "output_type": "stream",
     "text": [
      "root\n",
      " |-- id: string (nullable = true)\n",
      " |-- name: string (nullable = true)\n",
      " |-- email: string (nullable = true)\n",
      " |-- phone: string (nullable = true)\n",
      " |-- address: string (nullable = true)\n",
      " |-- age: integer (nullable = true)\n",
      " |-- create_date: timestamp (nullable = true)\n",
      " |-- update_date: timestamp (nullable = true)\n",
      "\n"
     ]
    }
   ],
   "source": [
    "# ------------------------------------ #\n",
    "# Data schema after data type mappinds #\n",
    "# ------------------------------------ #\n",
    "df_cast.printSchema()"
   ]
  },
  {
   "cell_type": "code",
   "execution_count": 13,
   "id": "endangered-egyptian",
   "metadata": {},
   "outputs": [],
   "source": [
    "# -------------------- #\n",
    "# Exporting to Parquet #\n",
    "# -------------------- #\n",
    "output = \"./data/output\"\n",
    "df_cast.repartition(1).write.mode(\"overwrite\").parquet(output)"
   ]
  },
  {
   "cell_type": "code",
   "execution_count": 14,
   "id": "hearing-kinase",
   "metadata": {},
   "outputs": [
    {
     "name": "stdout",
     "output_type": "stream",
     "text": [
      "['part-00000-f87e3b1d-9887-4b3f-93e0-80d98178be6a-c000.gz.parquet', '._SUCCESS.crc', '_SUCCESS', '.part-00000-f87e3b1d-9887-4b3f-93e0-80d98178be6a-c000.gz.parquet.crc']\n"
     ]
    }
   ],
   "source": [
    "# --------------------- #\n",
    "# Listing output folder #\n",
    "# --------------------- #\n",
    "print(listdir(output))"
   ]
  },
  {
   "cell_type": "code",
   "execution_count": 15,
   "id": "earned-growing",
   "metadata": {},
   "outputs": [
    {
     "data": {
      "text/plain": [
       "438"
      ]
     },
     "execution_count": 15,
     "metadata": {},
     "output_type": "execute_result"
    }
   ],
   "source": [
    "del df_cast\n",
    "del df_dedup\n",
    "del df\n",
    "gc.collect()"
   ]
  },
  {
   "cell_type": "code",
   "execution_count": null,
   "id": "present-gentleman",
   "metadata": {},
   "outputs": [],
   "source": []
  }
 ],
 "metadata": {
  "kernelspec": {
   "display_name": "Python 3",
   "language": "python",
   "name": "python3"
  },
  "language_info": {
   "codemirror_mode": {
    "name": "ipython",
    "version": 3
   },
   "file_extension": ".py",
   "mimetype": "text/x-python",
   "name": "python",
   "nbconvert_exporter": "python",
   "pygments_lexer": "ipython3",
   "version": "3.8.5"
  }
 },
 "nbformat": 4,
 "nbformat_minor": 5
}
